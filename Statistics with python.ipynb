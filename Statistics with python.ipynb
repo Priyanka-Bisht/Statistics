{
 "cells": [
  {
   "cell_type": "code",
   "execution_count": 1,
   "id": "b7c71180",
   "metadata": {},
   "outputs": [
    {
     "name": "stdout",
     "output_type": "stream",
     "text": [
      "10.75\n"
     ]
    }
   ],
   "source": [
    "import numpy as np\n",
    "values = [4,11,25,3]\n",
    "mean = np.mean(values)\n",
    "print(mean)"
   ]
  },
  {
   "cell_type": "code",
   "execution_count": 2,
   "id": "19370cdd",
   "metadata": {},
   "outputs": [
    {
     "name": "stdout",
     "output_type": "stream",
     "text": [
      "41.0\n"
     ]
    }
   ],
   "source": [
    "import numpy\n",
    "values = [13,21,21,40,42,48,55,72]\n",
    "median = np.median(values)\n",
    "print(median)"
   ]
  },
  {
   "cell_type": "code",
   "execution_count": 6,
   "id": "eca4f1f9",
   "metadata": {},
   "outputs": [
    {
     "name": "stdout",
     "output_type": "stream",
     "text": [
      "12\n"
     ]
    }
   ],
   "source": [
    "import statistics \n",
    "values = [4,7,3,8,11,10,19,6,9,12,12]\n",
    "print(statistics.mode(values))"
   ]
  },
  {
   "cell_type": "code",
   "execution_count": 7,
   "id": "14e833c7",
   "metadata": {},
   "outputs": [
    {
     "name": "stdout",
     "output_type": "stream",
     "text": [
      "59\n"
     ]
    }
   ],
   "source": [
    "# finding Range\n",
    "\n",
    "import numpy\n",
    "values = [13,21,21,40,48,55,72]\n",
    "x = np.ptp(values)\n",
    "print(x)"
   ]
  },
  {
   "cell_type": "code",
   "execution_count": 9,
   "id": "5e5c5300",
   "metadata": {},
   "outputs": [
    {
     "name": "stdout",
     "output_type": "stream",
     "text": [
      "[13.   21.   41.   49.75]\n"
     ]
    }
   ],
   "source": [
    "# finding quartiles\n",
    "\n",
    "import numpy\n",
    "values = [13,21,21,40,42,48,55,72]\n",
    "x = np.quantile(values,[0,0.25,0.50,0.75])\n",
    "print(x)"
   ]
  },
  {
   "cell_type": "code",
   "execution_count": 10,
   "id": "710045f0",
   "metadata": {},
   "outputs": [
    {
     "name": "stdout",
     "output_type": "stream",
     "text": [
      "45.3\n"
     ]
    }
   ],
   "source": [
    "# finding percentile\n",
    "\n",
    "import numpy\n",
    "values = [13,21,21,40,42,48,55,72]\n",
    "x = np.percentile(values,65)\n",
    "print(x)"
   ]
  },
  {
   "cell_type": "code",
   "execution_count": 11,
   "id": "ed36a303",
   "metadata": {},
   "outputs": [
    {
     "name": "stdout",
     "output_type": "stream",
     "text": [
      "28.75\n"
     ]
    }
   ],
   "source": [
    "# finding interquartile range\n",
    "\n",
    "from scipy import stats\n",
    "values = [13,21,21,40,42,48,55,72]\n",
    "x = stats.iqr(values)\n",
    "print(x)"
   ]
  },
  {
   "cell_type": "code",
   "execution_count": 12,
   "id": "24db5f7e",
   "metadata": {},
   "outputs": [
    {
     "name": "stdout",
     "output_type": "stream",
     "text": [
      "3.8078865529319543\n"
     ]
    }
   ],
   "source": [
    "# finding standard deviation\n",
    "\n",
    "import numpy\n",
    "values = [4,11,7,14]\n",
    "x = np.std(values)\n",
    "print(x)"
   ]
  },
  {
   "cell_type": "code",
   "execution_count": 13,
   "id": "cea4a42e",
   "metadata": {},
   "outputs": [
    {
     "name": "stdout",
     "output_type": "stream",
     "text": [
      "0.9986501019683699\n"
     ]
    }
   ],
   "source": [
    "# finding z-score-value\n",
    "\n",
    "import scipy.stats as stats\n",
    "print(stats.norm.cdf(3))"
   ]
  },
  {
   "cell_type": "code",
   "execution_count": 14,
   "id": "b6d68a64",
   "metadata": {},
   "outputs": [
    {
     "name": "stdout",
     "output_type": "stream",
     "text": [
      "0.9777290209818548\n"
     ]
    }
   ],
   "source": [
    "# finding p-value of t-value\n",
    "\n",
    "import scipy.stats as stats\n",
    "print(stats.t.cdf(2.1,29))"
   ]
  },
  {
   "cell_type": "code",
   "execution_count": 15,
   "id": "eb2b267d",
   "metadata": {},
   "outputs": [
    {
     "name": "stdout",
     "output_type": "stream",
     "text": [
      "0.7027221467513188\n"
     ]
    }
   ],
   "source": [
    "# finding t-value of a p-value\n",
    "\n",
    "import scipy.stats as stats\n",
    "print(stats.t.ppf(.75,9))"
   ]
  },
  {
   "cell_type": "code",
   "execution_count": 16,
   "id": "8c08430f",
   "metadata": {},
   "outputs": [
    {
     "name": "stdout",
     "output_type": "stream",
     "text": [
      "1.959963984540054\n"
     ]
    }
   ],
   "source": [
    "# finding the z-value\n",
    "\n",
    "import scipy.stats as stats\n",
    "print(stats.norm.ppf(1-0.025))"
   ]
  },
  {
   "cell_type": "code",
   "execution_count": 17,
   "id": "ae01e219",
   "metadata": {},
   "outputs": [
    {
     "ename": "NameError",
     "evalue": "name 'qnorm' is not defined",
     "output_type": "error",
     "traceback": [
      "\u001b[1;31m---------------------------------------------------------------------------\u001b[0m",
      "\u001b[1;31mNameError\u001b[0m                                 Traceback (most recent call last)",
      "\u001b[1;32m~\\AppData\\Local\\Temp\\ipykernel_23036\\3481947252.py\u001b[0m in \u001b[0;36m<module>\u001b[1;34m\u001b[0m\n\u001b[0;32m      7\u001b[0m \u001b[0mpoint_estimate\u001b[0m \u001b[1;33m=\u001b[0m \u001b[0mx\u001b[0m\u001b[1;33m/\u001b[0m\u001b[0mn\u001b[0m\u001b[1;33m\u001b[0m\u001b[1;33m\u001b[0m\u001b[0m\n\u001b[0;32m      8\u001b[0m \u001b[0malpha\u001b[0m \u001b[1;33m=\u001b[0m \u001b[1;33m(\u001b[0m\u001b[1;36m1\u001b[0m\u001b[1;33m-\u001b[0m\u001b[0mconfidence_level\u001b[0m\u001b[1;33m)\u001b[0m\u001b[1;33m\u001b[0m\u001b[1;33m\u001b[0m\u001b[0m\n\u001b[1;32m----> 9\u001b[1;33m \u001b[0mcritical_z\u001b[0m \u001b[1;33m=\u001b[0m \u001b[0mqnorm\u001b[0m\u001b[1;33m(\u001b[0m\u001b[1;36m1\u001b[0m\u001b[1;33m-\u001b[0m\u001b[0malpha\u001b[0m\u001b[1;33m/\u001b[0m\u001b[1;36m2\u001b[0m\u001b[1;33m)\u001b[0m\u001b[1;33m\u001b[0m\u001b[1;33m\u001b[0m\u001b[0m\n\u001b[0m\u001b[0;32m     10\u001b[0m \u001b[0mstandard_error\u001b[0m \u001b[1;33m=\u001b[0m \u001b[0msqrt\u001b[0m\u001b[1;33m(\u001b[0m\u001b[0mpoint_estimate\u001b[0m\u001b[1;33m*\u001b[0m\u001b[1;33m(\u001b[0m\u001b[1;36m1\u001b[0m\u001b[1;33m-\u001b[0m\u001b[0mpoint_estimate\u001b[0m\u001b[1;33m)\u001b[0m\u001b[1;33m/\u001b[0m\u001b[0mn\u001b[0m\u001b[1;33m)\u001b[0m\u001b[1;33m\u001b[0m\u001b[1;33m\u001b[0m\u001b[0m\n\u001b[0;32m     11\u001b[0m \u001b[0mmargin_of_error\u001b[0m \u001b[1;33m=\u001b[0m \u001b[0mcritical_z\u001b[0m \u001b[1;33m*\u001b[0m \u001b[0mstandard_error\u001b[0m\u001b[1;33m\u001b[0m\u001b[1;33m\u001b[0m\u001b[0m\n",
      "\u001b[1;31mNameError\u001b[0m: name 'qnorm' is not defined"
     ]
    }
   ],
   "source": [
    "# Specify sample occurrences (x), sample size (n) and confidence level\n",
    "x = 6\n",
    "n = 30\n",
    "confidence_level = 0.95\n",
    "\n",
    "# Calculate the point estimate, alpha, the critical z-value, the standard error, and the margin of error\n",
    "point_estimate = x/n\n",
    "alpha = (1-confidence_level)\n",
    "critical_z = qnorm(1-alpha/2)\n",
    "standard_error = sqrt(point_estimate*(1-point_estimate)/n)\n",
    "margin_of_error = critical_z * standard_error\n",
    "\n",
    "# Calculate the lower and upper bound of the confidence interval\n",
    "lower_bound = point_estimate - margin_of_error\n",
    "upper_bound = point_estimate + margin_of_error\n",
    "\n",
    "# Print the results\n",
    "sprintf(\"Point Estimate: %0.3f\", point_estimate)\n",
    "sprintf(\"Critical Z-value: %0.3f\", critical_z)\n",
    "sprintf(\"Margin of Error: %0.3f\", margin_of_error)\n",
    "sprintf(\"Confidence Interval: [%0.3f,%0.3f]\", lower_bound, upper_bound)\n",
    "sprintf(\"The %0.1f%% confidence interval for the population proportion is:\", confidence_level*100)\n",
    "sprintf(\"between %0.4f and %0.4f\", lower_bound, upper_bound)"
   ]
  },
  {
   "cell_type": "code",
   "execution_count": null,
   "id": "68b2565e",
   "metadata": {},
   "outputs": [],
   "source": []
  }
 ],
 "metadata": {
  "kernelspec": {
   "display_name": "Python 3 (ipykernel)",
   "language": "python",
   "name": "python3"
  },
  "language_info": {
   "codemirror_mode": {
    "name": "ipython",
    "version": 3
   },
   "file_extension": ".py",
   "mimetype": "text/x-python",
   "name": "python",
   "nbconvert_exporter": "python",
   "pygments_lexer": "ipython3",
   "version": "3.7.9"
  }
 },
 "nbformat": 4,
 "nbformat_minor": 5
}
